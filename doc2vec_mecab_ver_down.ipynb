{
  "nbformat": 4,
  "nbformat_minor": 0,
  "metadata": {
    "colab": {
      "name": "doc2vec-mecab-ver-down.ipynb",
      "version": "0.3.2",
      "provenance": []
    },
    "kernelspec": {
      "name": "python3",
      "display_name": "Python 3"
    }
  },
  "cells": [
    {
      "metadata": {
        "id": "BiLN170qrpdZ",
        "colab_type": "code",
        "colab": {
          "base_uri": "https://localhost:8080/",
          "height": 255
        },
        "outputId": "dc74f8e6-7c12-453d-cfef-1a7adc83a3e9"
      },
      "cell_type": "code",
      "source": [
        "!apt install mecab libmecab-dev mecab-ipadic-utf8 git make curl xz-utils file -y"
      ],
      "execution_count": 1,
      "outputs": [
        {
          "output_type": "stream",
          "text": [
            "Reading package lists... Done\n",
            "Building dependency tree       \n",
            "Reading state information... Done\n",
            "make is already the newest version (4.1-9.1ubuntu1).\n",
            "make set to manually installed.\n",
            "xz-utils is already the newest version (5.2.2-1.3).\n",
            "xz-utils set to manually installed.\n",
            "libmecab-dev is already the newest version (0.996-5).\n",
            "mecab is already the newest version (0.996-5).\n",
            "mecab-ipadic-utf8 is already the newest version (2.7.0-20070801+main-1).\n",
            "curl is already the newest version (7.58.0-2ubuntu3.5).\n",
            "file is already the newest version (1:5.32-2ubuntu0.1).\n",
            "git is already the newest version (1:2.17.1-1ubuntu0.4).\n",
            "0 upgraded, 0 newly installed, 0 to remove and 8 not upgraded.\n"
          ],
          "name": "stdout"
        }
      ]
    },
    {
      "metadata": {
        "id": "Hby4TNj7si1b",
        "colab_type": "code",
        "colab": {
          "base_uri": "https://localhost:8080/",
          "height": 241
        },
        "outputId": "6071e080-6171-432e-fc63-f32c8bc9877b"
      },
      "cell_type": "code",
      "source": [
        "!pip install mecab-python3==0.7"
      ],
      "execution_count": 2,
      "outputs": [
        {
          "output_type": "stream",
          "text": [
            "Collecting mecab-python3==0.7\n",
            "\u001b[?25l  Downloading https://files.pythonhosted.org/packages/25/e9/bbf5fc790a2bedd96fbaf47a84afa060bfb0b3e0217e5f64b32bd4bbad69/mecab-python3-0.7.tar.gz (41kB)\n",
            "\u001b[K    100% |████████████████████████████████| 51kB 3.9MB/s \n",
            "\u001b[?25hBuilding wheels for collected packages: mecab-python3\n",
            "  Running setup.py bdist_wheel for mecab-python3 ... \u001b[?25l-\b \b\\\b \b|\b \b/\b \bdone\n",
            "\u001b[?25h  Stored in directory: /root/.cache/pip/wheels/4c/07/3a/5f22ccc9f381f3bc01fa023202061cd1e0e9af855292f005dd\n",
            "Successfully built mecab-python3\n",
            "Installing collected packages: mecab-python3\n",
            "  Found existing installation: mecab-python3 0.996.1\n",
            "    Uninstalling mecab-python3-0.996.1:\n",
            "      Successfully uninstalled mecab-python3-0.996.1\n",
            "Successfully installed mecab-python3-0.7\n"
          ],
          "name": "stdout"
        }
      ]
    },
    {
      "metadata": {
        "id": "T-UVM2mWsxql",
        "colab_type": "code",
        "colab": {}
      },
      "cell_type": "code",
      "source": [
        "import MeCab\n",
        "from gensim.models.doc2vec import Doc2Vec\n",
        "from gensim.models.doc2vec import TaggedDocument\n",
        "\n",
        "text = open('simuraly-data.txt', 'r').read()\n",
        "documents = text.replace(\"\\n\", \"\").split(\"end_of_text\")\n",
        "\n",
        "def words(text):\n",
        "    # 文章を単語に分割する\n",
        "    word_list = []\n",
        "    tagger = MeCab.Tagger('-Ochasen')\n",
        "    tagger.parse('')\n",
        "    node = tagger.parseToNode(text)\n",
        "\n",
        "    file = open('words.txt', 'a')\n",
        "    while node:\n",
        "        word_type = node.feature.split(\",\")[0]\n",
        "        word = node.surface\n",
        "        if word == '*' and node.feature.split(\",\")[6].isalpha():\n",
        "            word = node.feature.split(\",\")[6]\n",
        "\n",
        "        if len(word) > 1 and word.isalpha() and word_type in [\"名詞\"]:\n",
        "            word_list.append(word.lower())\n",
        "            file.write(str(word + \"\\n\"))\n",
        "            \n",
        "        node = node.next\n",
        "    \n",
        "    file.close()\n",
        "    return word_list\n",
        "\n",
        "# テキストごとに単語分割して学習データを作成する\n",
        "train_data = []\n",
        "file = open('documents.txt', 'w')\n",
        "\n",
        "for i, document in enumerate(documents):\n",
        "    train_data.append(TaggedDocument(words=words(document), tags=['text' + str(i + 1)]))\n",
        "    file.write(\"*****\" + str(words(document)) + \"\\n\")\n",
        "\n",
        "file.close()\n",
        "    \n",
        "\n",
        "# doc2vec の学習を実行\n",
        "model = Doc2Vec(documents=train_data, min_count=1, alpha=0.005, epochs=40, sample=20, dm=1)\n",
        "\n"
      ],
      "execution_count": 0,
      "outputs": []
    },
    {
      "metadata": {
        "id": "2mJbpwGxOLJy",
        "colab_type": "code",
        "colab": {
          "base_uri": "https://localhost:8080/",
          "height": 1193
        },
        "outputId": "b374a278-0dcd-4a82-96c7-74939f151b49"
      },
      "cell_type": "code",
      "source": [
        "for i, document in enumerate(documents):\n",
        "    print('text' + str(i + 1) + \"\\t\" + document.replace(\"\\n\", \"\")[0:50])\n",
        "    for items in model.docvecs.most_similar('text' + str(i + 1), topn=2):\n",
        "        print(\"\\t\" + str(items[0]) + \" : \\t\"+ str(items[1]) + \"\\t\")"
      ],
      "execution_count": 93,
      "outputs": [
        {
          "output_type": "stream",
          "text": [
            "text1\tマイコンボードを中継器にして PC に電子部品を接続し、Ruby で制御してみた（発光ダイオード編）\n",
            "\ttext7 : \t0.9987452030181885\t\n",
            "\ttext5 : \t0.9986720085144043\t\n",
            "text2\tマイコンボードを中継器にして PC に電子部品を接続し、Ruby で制御してみた（温度センサ編）Ru\n",
            "\ttext7 : \t0.9979823231697083\t\n",
            "\ttext1 : \t0.9978688955307007\t\n",
            "text3\tフロントエンド初心者が、ReactでHelloWorldしてみた（ブラウザ上編）初心者ブラウザHel\n",
            "\ttext21 : \t0.9979885220527649\t\n",
            "\ttext20 : \t0.9979159235954285\t\n",
            "text4\tフロントエンド初心者が、Vue.jsでHelloWorldしてみた（ブラウザ上編）初心者ブラウザHe\n",
            "\ttext20 : \t0.9967581033706665\t\n",
            "\ttext21 : \t0.9964686036109924\t\n",
            "text5\tマイコンボードを中継器にして PC に電子部品を接続し、Ruby で制御してみた（サーボモータ編）R\n",
            "\ttext1 : \t0.9986720085144043\t\n",
            "\ttext7 : \t0.9985793232917786\t\n",
            "text6\t最初に覚えて欲しいPythonのロギングPython21はじめに簡単な使い捨てのコードならprint\n",
            "\ttext19 : \t0.9987303018569946\t\n",
            "\ttext7 : \t0.9971414804458618\t\n",
            "text7\tマイコンボードを中継器にして PC に電子部品を接続し、Ruby で制御してみた（人感センサ編）Ru\n",
            "\ttext20 : \t0.9989395141601562\t\n",
            "\ttext1 : \t0.9987452626228333\t\n",
            "text8\tproxy が存在するネットワークから、インターネット上の何かにアクセスするproxy5この記事は、\n",
            "\ttext18 : \t0.8662922382354736\t\n",
            "\ttext16 : \t0.8357861638069153\t\n",
            "text9\tAdobe XD CCでモックアップをサクサク作ろうAdobeXDモックアップ1今更ですが、Adob\n",
            "\ttext17 : \t0.9987900853157043\t\n",
            "\ttext20 : \t0.9986022710800171\t\n",
            "text10\t蠟引紙（ろうびきし）でアドベントツリー作ってみたクリスマスデザイン,UI蝋3＜ 序章 ＞先日、妻に急\n",
            "\ttext16 : \t0.9987809658050537\t\n",
            "\ttext20 : \t0.9987393617630005\t\n",
            "text11\tRaspberryPi で人感カメラを作ってみたPythonRaspberryPiIoT4開始IoT\n",
            "\ttext16 : \t0.9988595247268677\t\n",
            "\ttext20 : \t0.9988433122634888\t\n",
            "text12\tPython in RedHat Enterprise Linux 8PythonLinuxRHEL\n",
            "\ttext20 : \t0.9978363513946533\t\n",
            "\ttext17 : \t0.9974120855331421\t\n",
            "text13\t手抜きのjavascript -var編-JavaScript1富士通ソーシアルサイエンスラボラトリ\n",
            "\ttext20 : \t0.9978794455528259\t\n",
            "\ttext7 : \t0.9976962804794312\t\n",
            "text14\tなんか作るPythoncurses2なんか作ってみるPythonと何かでcursesを使って見た目動\n",
            "\ttext20 : \t0.9948053359985352\t\n",
            "\ttext7 : \t0.9946098327636719\t\n",
            "text15\tExcelの入力規則でつくる食卓カレンダーExcel,入力規則2この記事は、富士通ソーシアルサイエン\n",
            "\ttext20 : \t0.9979256391525269\t\n",
            "\ttext21 : \t0.9978295564651489\t\n",
            "text16\tCodiMDによるドキュメント作成のすすめMarkdownHackMDCodiMD4たまたま弊社のア\n",
            "\ttext20 : \t0.9992533326148987\t\n",
            "\ttext17 : \t0.9991676807403564\t\n",
            "text17\tWebで動くピタゴラスイッチ風のおもちゃJavaScriptTypeScript物理演算Matter\n",
            "\ttext20 : \t0.9992940425872803\t\n",
            "\ttext16 : \t0.9991676211357117\t\n",
            "text18\t認証プロキシをFiddlerで超えるHTTPFiddler3はじめに行く手を阻む認証プロキシを、Fi\n",
            "\ttext16 : \t0.9972044825553894\t\n",
            "\ttext10 : \t0.9966017007827759\t\n",
            "text19\tPythonのloggingにTRACEレベルを増やすPython4はじめに前回「最初に覚えて欲しい\n",
            "\ttext6 : \t0.9987303018569946\t\n",
            "\ttext7 : \t0.9975227117538452\t\n",
            "text20\t何も買わずに試すディープラーニングディープラーニングKerasTensorFlow4はじめに　相変わ\n",
            "\ttext17 : \t0.9992940425872803\t\n",
            "\ttext16 : \t0.9992532730102539\t\n",
            "text21\tCytoscape.jsを用いてデータを可視化するgraphcytoscape.js5Cytosca\n",
            "\ttext20 : \t0.9991275072097778\t\n",
            "\ttext17 : \t0.9991148114204407\t\n",
            "text22\tルーラーを表示して文字位置を揃えるofficeWordPowerPointドキュメント2はじめにルー\n",
            "\ttext20 : \t0.99702388048172\t\n",
            "\ttext21 : \t0.9970059394836426\t\n"
          ],
          "name": "stdout"
        },
        {
          "output_type": "stream",
          "text": [
            "/usr/local/lib/python3.6/dist-packages/gensim/matutils.py:737: FutureWarning: Conversion of the second argument of issubdtype from `int` to `np.signedinteger` is deprecated. In future, it will be treated as `np.int64 == np.dtype(int).type`.\n",
            "  if np.issubdtype(vec.dtype, np.int):\n"
          ],
          "name": "stderr"
        }
      ]
    },
    {
      "metadata": {
        "id": "yKGckTfnN6SZ",
        "colab_type": "code",
        "colab": {
          "base_uri": "https://localhost:8080/",
          "height": 275
        },
        "outputId": "0aa859fa-bf1a-441a-a511-9186cc5681db"
      },
      "cell_type": "code",
      "source": [
        "for result in model.most_similar(positive=\"コマンド\", topn=10):\n",
        "      print(str(result))"
      ],
      "execution_count": 136,
      "outputs": [
        {
          "output_type": "stream",
          "text": [
            "('設定', 0.9952303171157837)\n",
            "('以下', 0.9942916631698608)\n",
            "('情報', 0.9937410950660706)\n",
            "('ファイル', 0.9932984113693237)\n",
            "('fiddler', 0.9932637214660645)\n",
            "('作成', 0.99315345287323)\n",
            "('環境', 0.99250328540802)\n",
            "('記事', 0.9917477369308472)\n",
            "('id', 0.9915721416473389)\n",
            "('必要', 0.9906970262527466)\n"
          ],
          "name": "stdout"
        },
        {
          "output_type": "stream",
          "text": [
            "/usr/local/lib/python3.6/dist-packages/ipykernel_launcher.py:1: DeprecationWarning: Call to deprecated `most_similar` (Method will be removed in 4.0.0, use self.wv.most_similar() instead).\n",
            "  \"\"\"Entry point for launching an IPython kernel.\n",
            "/usr/local/lib/python3.6/dist-packages/gensim/matutils.py:737: FutureWarning: Conversion of the second argument of issubdtype from `int` to `np.signedinteger` is deprecated. In future, it will be treated as `np.int64 == np.dtype(int).type`.\n",
            "  if np.issubdtype(vec.dtype, np.int):\n"
          ],
          "name": "stderr"
        }
      ]
    },
    {
      "metadata": {
        "id": "GbVX0JGkBH3r",
        "colab_type": "code",
        "colab": {
          "base_uri": "https://localhost:8080/",
          "height": 275
        },
        "outputId": "054d8be2-1c24-4e52-cc2b-db91e02916ba"
      },
      "cell_type": "code",
      "source": [
        "for result in model.most_similar(positive=[\"コマンド\", \"user\"], topn=10):\n",
        "      print(str(result))"
      ],
      "execution_count": 137,
      "outputs": [
        {
          "output_type": "stream",
          "text": [
            "('https', 0.991931676864624)\n",
            "('ネットワーク', 0.9820094108581543)\n",
            "('存在', 0.9805724024772644)\n",
            "('情報', 0.978228747844696)\n",
            "('ファイル', 0.977412223815918)\n",
            "('設定', 0.973896861076355)\n",
            "('git', 0.9735790491104126)\n",
            "('fiddler', 0.9706029295921326)\n",
            "('インターネット', 0.9678129553794861)\n",
            "('作成', 0.9671698808670044)\n"
          ],
          "name": "stdout"
        },
        {
          "output_type": "stream",
          "text": [
            "/usr/local/lib/python3.6/dist-packages/ipykernel_launcher.py:1: DeprecationWarning: Call to deprecated `most_similar` (Method will be removed in 4.0.0, use self.wv.most_similar() instead).\n",
            "  \"\"\"Entry point for launching an IPython kernel.\n",
            "/usr/local/lib/python3.6/dist-packages/gensim/matutils.py:737: FutureWarning: Conversion of the second argument of issubdtype from `int` to `np.signedinteger` is deprecated. In future, it will be treated as `np.int64 == np.dtype(int).type`.\n",
            "  if np.issubdtype(vec.dtype, np.int):\n"
          ],
          "name": "stderr"
        }
      ]
    },
    {
      "metadata": {
        "id": "nqZKxY4z9211",
        "colab_type": "code",
        "colab": {
          "base_uri": "https://localhost:8080/",
          "height": 275
        },
        "outputId": "2c3b1c0c-1438-4656-e2b2-8a89e0d3695e"
      },
      "cell_type": "code",
      "source": [
        "for result in model.most_similar(positive=[\"コマンド\", \"user\"], negative=[\"http\"], topn=10):\n",
        "      print(str(result))"
      ],
      "execution_count": 142,
      "outputs": [
        {
          "output_type": "stream",
          "text": [
            "('python', 0.9798836708068848)\n",
            "('pc', 0.9794877767562866)\n",
            "('arduino', 0.9788479804992676)\n",
            "('pip', 0.978778600692749)\n",
            "('name', 0.9787502288818359)\n",
            "('self', 0.9783775806427002)\n",
            "('制御', 0.9783043265342712)\n",
            "('インストール', 0.9781792759895325)\n",
            "('keras', 0.9780073165893555)\n",
            "('logger', 0.9779103994369507)\n"
          ],
          "name": "stdout"
        },
        {
          "output_type": "stream",
          "text": [
            "/usr/local/lib/python3.6/dist-packages/ipykernel_launcher.py:1: DeprecationWarning: Call to deprecated `most_similar` (Method will be removed in 4.0.0, use self.wv.most_similar() instead).\n",
            "  \"\"\"Entry point for launching an IPython kernel.\n",
            "/usr/local/lib/python3.6/dist-packages/gensim/matutils.py:737: FutureWarning: Conversion of the second argument of issubdtype from `int` to `np.signedinteger` is deprecated. In future, it will be treated as `np.int64 == np.dtype(int).type`.\n",
            "  if np.issubdtype(vec.dtype, np.int):\n"
          ],
          "name": "stderr"
        }
      ]
    },
    {
      "metadata": {
        "id": "ZRcdSKg0tC4I",
        "colab_type": "code",
        "colab": {
          "base_uri": "https://localhost:8080/",
          "height": 170
        },
        "outputId": "6e5ee049-e48b-47e0-98ec-e65f3496bd2a"
      },
      "cell_type": "code",
      "source": [
        "import MeCab\n",
        "\n",
        "text = \"私はバナナが好きです。\"\n",
        "\n",
        "mecabTagger = MeCab.Tagger(\"mecabrc\")\n",
        "mecabTagger.parse(\"\")\n",
        "node = mecabTagger.parseToNode(text)\n",
        "while node:\n",
        "    word = node.surface\n",
        "    # hinshi = node.feature.split(\",\")[0]\n",
        "    print(word+\": \"+ node.feature)\n",
        "    node = node.next"
      ],
      "execution_count": 4,
      "outputs": [
        {
          "output_type": "stream",
          "text": [
            ": BOS/EOS,*,*,*,*,*,*,*,*\n",
            "私: 名詞,代名詞,一般,*,*,*,私,ワタシ,ワタシ\n",
            "は: 助詞,係助詞,*,*,*,*,は,ハ,ワ\n",
            "バナナ: 名詞,一般,*,*,*,*,バナナ,バナナ,バナナ\n",
            "が: 助詞,格助詞,一般,*,*,*,が,ガ,ガ\n",
            "好き: 名詞,形容動詞語幹,*,*,*,*,好き,スキ,スキ\n",
            "です: 助動詞,*,*,*,特殊・デス,基本形,です,デス,デス\n",
            "。: 記号,句点,*,*,*,*,。,。,。\n",
            ": BOS/EOS,*,*,*,*,*,*,*,*\n"
          ],
          "name": "stdout"
        }
      ]
    },
    {
      "metadata": {
        "id": "XZ3YQR9s7yTH",
        "colab_type": "code",
        "colab": {
          "base_uri": "https://localhost:8080/",
          "height": 34
        },
        "outputId": "cd231d7e-af53-420e-d7c5-6ede5c2d888b"
      },
      "cell_type": "code",
      "source": [
        "print('*'.isalpha())"
      ],
      "execution_count": 44,
      "outputs": [
        {
          "output_type": "stream",
          "text": [
            "False\n"
          ],
          "name": "stdout"
        }
      ]
    }
  ]
}